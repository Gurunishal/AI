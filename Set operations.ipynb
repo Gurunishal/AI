{
 "cells": [
  {
   "cell_type": "code",
   "execution_count": 2,
   "id": "bcd5c258",
   "metadata": {},
   "outputs": [
    {
     "name": "stdout",
     "output_type": "stream",
     "text": [
      "Union of E and N is {0, 1, 2, 3, 4, 5, 6, 8}\n",
      "Intersection of E and N is {2, 4}\n",
      "Difference of E and N is {0, 8, 6}\n",
      "Symmetric difference of E and N is {0, 1, 3, 5, 6, 8}\n"
     ]
    }
   ],
   "source": [
    "E = {0, 2, 4, 6, 8};\n",
    "N = {1, 2, 3, 4, 5};\n",
    "\n",
    "union = E|N\n",
    "intersection = E&N\n",
    "diff = E-N\n",
    "symmdiff = E^N\n",
    "\n",
    "print(\"Union of E and N is\",union)\n",
    "print(\"Intersection of E and N is\",intersection)\n",
    "print(\"Difference of E and N is\",diff)\n",
    "print(\"Symmetric difference of E and N is\",E ^ N)"
   ]
  },
  {
   "cell_type": "code",
   "execution_count": null,
   "id": "61c09196",
   "metadata": {},
   "outputs": [],
   "source": []
  }
 ],
 "metadata": {
  "kernelspec": {
   "display_name": "Python 3 (ipykernel)",
   "language": "python",
   "name": "python3"
  },
  "language_info": {
   "codemirror_mode": {
    "name": "ipython",
    "version": 3
   },
   "file_extension": ".py",
   "mimetype": "text/x-python",
   "name": "python",
   "nbconvert_exporter": "python",
   "pygments_lexer": "ipython3",
   "version": "3.9.12"
  }
 },
 "nbformat": 4,
 "nbformat_minor": 5
}
