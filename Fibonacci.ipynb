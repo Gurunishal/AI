{
 "cells": [
  {
   "cell_type": "code",
   "execution_count": 3,
   "id": "943e0ce3",
   "metadata": {},
   "outputs": [
    {
     "name": "stdout",
     "output_type": "stream",
     "text": [
      "Enter the terms: 5\n",
      "0 1 1 2 3 "
     ]
    }
   ],
   "source": [
    "a=int(input(\"Enter the no.of terms: \"))\n",
    "n1=0                                       \n",
    "n2=1      \n",
    "\n",
    "if a<=0:\n",
    "    print(n1)\n",
    "else:\n",
    "    print(n1,n2,end=\" \")\n",
    "    for x in range(2,a):\n",
    "        next=n1+n2                           \n",
    "        print(next,end=\" \")\n",
    "        n1=n2\n",
    "        n2=next\n",
    "    \n",
    "    "
   ]
  }
 ],
 "metadata": {
  "kernelspec": {
   "display_name": "Python 3 (ipykernel)",
   "language": "python",
   "name": "python3"
  },
  "language_info": {
   "codemirror_mode": {
    "name": "ipython",
    "version": 3
   },
   "file_extension": ".py",
   "mimetype": "text/x-python",
   "name": "python",
   "nbconvert_exporter": "python",
   "pygments_lexer": "ipython3",
   "version": "3.9.12"
  }
 },
 "nbformat": 4,
 "nbformat_minor": 5
}
