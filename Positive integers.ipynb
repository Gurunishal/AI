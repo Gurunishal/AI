{
 "cells": [
  {
   "cell_type": "code",
   "execution_count": 6,
   "id": "ec7a0a3b",
   "metadata": {},
   "outputs": [
    {
     "name": "stdout",
     "output_type": "stream",
     "text": [
      "Positive integers from list1: [12, 5, 64]\n",
      "Positive integers from list2: [12, 14, 3]\n"
     ]
    }
   ],
   "source": [
    "list1 = [12, -7, 5, 64, -14]\n",
    "list2 = [12, 14, -95, 3] \n",
    "\n",
    "pos1 =[]\n",
    "pos2 =[]\n",
    "\n",
    "for i in list1:\n",
    "    if (i>0):\n",
    "        pos1.append(i)\n",
    "print(\"Positive integers from list1:\",pos1)\n",
    "\n",
    "for i in list2:\n",
    "    if (i>0):\n",
    "        pos2.append(i)\n",
    "print(\"Positive integers from list2:\",pos2)"
   ]
  },
  {
   "cell_type": "code",
   "execution_count": null,
   "id": "44bd0753",
   "metadata": {},
   "outputs": [],
   "source": []
  }
 ],
 "metadata": {
  "kernelspec": {
   "display_name": "Python 3 (ipykernel)",
   "language": "python",
   "name": "python3"
  },
  "language_info": {
   "codemirror_mode": {
    "name": "ipython",
    "version": 3
   },
   "file_extension": ".py",
   "mimetype": "text/x-python",
   "name": "python",
   "nbconvert_exporter": "python",
   "pygments_lexer": "ipython3",
   "version": "3.9.12"
  }
 },
 "nbformat": 4,
 "nbformat_minor": 5
}
